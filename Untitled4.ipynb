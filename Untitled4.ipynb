{
  "nbformat": 4,
  "nbformat_minor": 0,
  "metadata": {
    "colab": {
      "provenance": [],
      "authorship_tag": "ABX9TyN4B3Fc9bz9siRPJoecCxV5",
      "include_colab_link": true
    },
    "kernelspec": {
      "name": "python3",
      "display_name": "Python 3"
    },
    "language_info": {
      "name": "python"
    }
  },
  "cells": [
    {
      "cell_type": "markdown",
      "metadata": {
        "id": "view-in-github",
        "colab_type": "text"
      },
      "source": [
        "<a href=\"https://colab.research.google.com/github/JadeNjoki/PLP-PYTHON-WEEK-FOUR/blob/main/Untitled4.ipynb\" target=\"_parent\"><img src=\"https://colab.research.google.com/assets/colab-badge.svg\" alt=\"Open In Colab\"/></a>"
      ]
    },
    {
      "cell_type": "code",
      "execution_count": null,
      "metadata": {
        "id": "Qk3K6ev5iw33"
      },
      "outputs": [],
      "source": [
        "def modify_content(content):\n",
        "    \"\"\"Modify the content before writing to a new file (example: convert to uppercase).\"\"\"\n",
        "    return content.upper()\n",
        "\n",
        "def file_read_write():\n",
        "    try:\n",
        "        # Ask the user for a filename\n",
        "        filename = input(\"Enter the filename to read: \")\n",
        "\n",
        "        # Open and read the file\n",
        "        with open(filename, \"r\") as file:\n",
        "            content = file.read()\n",
        "\n",
        "        # Modify content\n",
        "        modified_content = modify_content(content)\n",
        "\n",
        "        # Write modified content to a new file\n",
        "        new_filename = \"modified_\" + filename\n",
        "        with open(new_filename, \"w\") as new_file:\n",
        "            new_file.write(modified_content)\n",
        "\n",
        "        print(f\"Modified content written to {new_filename} successfully! 🎉\")\n",
        "\n",
        "    except FileNotFoundError:\n",
        "        print(\"Error: The file does not exist. Please enter a valid filename. ❌\")\n",
        "    except IOError:\n",
        "        print(\"Error: Unable to read or write to the file. Check permissions. ⚠️\")\n",
        "\n",
        "# Run the function\n",
        "file_read_write()\n"
      ]
    }
  ]
}